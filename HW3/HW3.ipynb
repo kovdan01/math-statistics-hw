{
 "cells": [
  {
   "cell_type": "markdown",
   "metadata": {},
   "source": [
    "# Домашнее задание 3. Оценки\n",
    "Ковалев Даниил, СКБ171"
   ]
  },
  {
   "cell_type": "markdown",
   "metadata": {},
   "source": [
    "#### Примечание\n",
    "Дадим определение выборочного среднего и выборочной дисперсии один раз здесь, а также проверим эти оценки на несмещенность, потому что рассуждения и определения верны для любого распределения и не нуждаются в дублировании. При рассмотрении конкретных реализаций выборок позднее будем проверять только состоятельность."
   ]
  },
  {
   "cell_type": "markdown",
   "metadata": {},
   "source": [
    "### Выборочное среднее и выборочная дисперсия\n",
    "Пусть $X_1,\\ldots,X_n$ - выборка независимых одинаково распределенных по закону $\\xi$ случайных величин, тогда $\\hat{\\alpha}_1=\\dfrac{1}{n}\\sum\\limits_{i=1}^{n}X_i$ называется выборочным средним, а $\\hat{\\mu_2}=\\dfrac{1}{n}\\sum\\limits_{i=1}^{n}(X_i-\\hat{\\alpha}_1)^2$ - выборочной дисперсией."
   ]
  },
  {
   "cell_type": "markdown",
   "metadata": {},
   "source": [
    "Проверим данные оценки на несмещенность.\n",
    "\n",
    "Посчитаем $\\mathbb{E}\\hat{\\alpha}_1$: \n",
    "\n",
    "$\\mathbb{E}\\hat{\\alpha}_1=\n",
    "\\mathbb{E}\\left[\\dfrac{1}{n} \\sum\\limits_{i=1}^{n}X_i\\right] = \\dfrac{1}{n} \\sum\\limits_{i=1}^{n}\\mathbb{E} X_i = \\dfrac{1}{n} \\sum\\limits_{i=1}^{n}\\mathbb{E}X_1 = \\dfrac{1}{n}\\cdot n\\cdot \\mathbb{E} X_1 = \\mathbb{E} X_1=\\mathbb{E}\\xi$\n",
    "\n",
    "Итак, $\\mathbb{E}\\hat{\\alpha}_1=\\mathbb{E}\\xi$, т.е. **выборочное среднее является несмещенной оценкой для мат. ожидания $\\xi$**\n",
    "\n",
    "Посчитаем $\\mathbb{E}\\hat{\\mu}_2$. Построим выборку $Y_1,\\ldots,Y_n$, где $Y_i=X_i-\\mathbb{E}\\xi$, $i=\\overline{1,n}$.\n",
    "Имеем:\n",
    "\n",
    "$\\mathbb{E}Y_i=\\mathbb{E}\\left[X_i-\\mathbb{E}\\xi\\right]=\\mathbb{E}X_i-\\mathbb{E}\\left[\\mathbb{E}\\xi\\right]=\\mathbb{E}\\xi-\\mathbb{E}\\xi=0$\n",
    "\n",
    "$\\mathbb{D}Y_i=\\mathbb{D}\\left[X_i-\\mathbb{E}\\xi\\right]=\\mathbb{D}X_i=\\mathbb{D}X_1=\\mathbb{D}\\xi$, т.к. $\\mathbb{E}\\xi$ - константа\n",
    "\n",
    "С другой стороны, по определению $\\mathbb{D}Y_i=\\mathbb{E}\\left[Y_i^2\\right]-\\left[\\mathbb{E}Y_i\\right]^2=\\mathbb{E}\\left[Y_i^2\\right]$.\n",
    "\n",
    "Введем обозначения $\\overline{X}=\\hat{\\alpha}_1$, $\\overline{Y}=\\dfrac{1}{n}\\sum\\limits_{i=1}^{n}Y_i$. Имеем:\n",
    "\n",
    "$Y_i-\\overline{Y}=X_i-\\mathbb{E}\\xi-\\dfrac{1}{n}\\sum\\limits_{i=1}^{n}\\left(X_i-\\mathbb{E}\\xi\\right)=X_i-\\mathbb{E}\\xi-\\dfrac{1}{n}\\sum\\limits_{i=1}{n}X_i+\\dfrac{1}{n}\\sum\\limits_{i=1}^{n}\\mathbb{E}\\xi=X_i-\\overline{X}$\n",
    "\n",
    "$\\hat{\\mu_2}=\n",
    "\\dfrac{1}{n}\\sum\\limits_{i=1}^{n}(X_i-\\overline{X})^2=\n",
    "\\dfrac{1}{n}\\sum\\limits_{i=1}^{n}(Y_i-\\overline{Y})^2=\n",
    "\\dfrac{1}{n}\\left[\\sum\\limits_{i=1}^{n}Y_i^2-2\\sum\\limits_{i=1}^{n}Y_i\\overline{Y}+\\sum\\limits_{i=1}^{n}\\overline{Y}^2\\right]=\n",
    "\\dfrac{1}{n}\\sum\\limits_{i=1}^{n}Y_i^2-2\\overline{Y}\\dfrac{1}{n}\\sum\\limits_{i=1}^{n}Y_i+\\dfrac{1}{n}\\sum\\limits_{i=1}^{n}\\overline{Y}^2=\n",
    "\\dfrac{1}{n}\\sum\\limits_{i=1}^{n}Y_i^2-\\overline{Y}^2$\n",
    "\n",
    "$\\mathbb{E}\\hat{\\mu_2}=\n",
    "\\mathbb{E}\\left[\\dfrac{1}{n}\\sum\\limits_{i=1}^{n}Y_i^2-\\overline{Y}^2\\right]=\n",
    "\\mathbb{E}\\left[\\mathbb{D}Y_i\\right]-\\mathbb{E}\\left[\\overline{Y}^2\\right]=\n",
    "\\mathbb{D}\\xi-\\mathbb{E}\\left[\\overline{Y}^2\\right]$\n",
    "\n",
    "$X_i,X_j$ являются независимыми случайными величинами при $i\\neq j$ (по условию), значит, и смещенные на константу $Y_i,Y_j$ будут являться независимыми. Тогда $\\mathbb{E}\\left[Y_i Y_j\\right]=\\mathbb{E}Y_i\\cdot\\mathbb{E}Y_j=0\\cdot 0=0$. Имеем:\n",
    "\n",
    "$\\mathbb{E}\\left[\\overline{Y}^2\\right]=\n",
    "\\dfrac{1}{n^2}\\mathbb{E}\\left[\\left(\\sum\\limits_{i=1}^n Y_i\\right)^2\\right]=\n",
    "\\left\\{\\mathbb{E}\\left[Y_i Y_j\\right]=0,i\\neq j\\right\\}=\n",
    "\\dfrac{1}{n^2}\\sum\\limits_{i=1}^n\\left[\\mathbb{E}\\left(Y_i^2\\right)\\right]=\n",
    "\\dfrac{1}{n^2}\\sum\\limits_{i=1}^n\\mathbb{D} Y_i=\n",
    "\\dfrac{1}{n^2}\\sum\\limits_{i=1}^n\\mathbb{D} \\xi=\\dfrac{1}{n}\\mathbb{D}\\xi$\n",
    "\n",
    "Подставляем полученные результаты:\n",
    "\n",
    "$\\mathbb{E}\\hat{\\mu_2}=\n",
    "\\mathbb{D}\\xi-\\mathbb{E}\\left[\\overline{Y}^2\\right]=\n",
    "\\mathbb{D}\\xi-\\dfrac{1}{n}\\mathbb{D}\\xi=\\dfrac{n-1}{n}\\mathbb{D}\\xi$\n",
    "\n",
    "Итак, $\\mathbb{E}\\hat{\\mu_2}=\\dfrac{n-1}{n}\\mathbb{D}\\xi$, т.е. **выборочная дисперсия является смещенной оценкой для дисперсии $\\xi$**"
   ]
  },
  {
   "cell_type": "code",
   "execution_count": 1,
   "metadata": {},
   "outputs": [],
   "source": [
    "import os\n",
    "import numpy as np\n",
    "import pandas as pd\n",
    "import tqdm\n",
    "import matplotlib.pyplot as plt\n",
    "from scipy import special, stats, optimize\n",
    "from scipy.stats import pearsonr, mstats\n",
    "from bisect import bisect_left, bisect_right\n",
    "import functools\n",
    "%matplotlib inline"
   ]
  },
  {
   "cell_type": "code",
   "execution_count": 2,
   "metadata": {},
   "outputs": [],
   "source": [
    "plt.rcParams.update({'font.size': 16})\n",
    "sample_count = [5, 10, 100, 10**3, 10**5]"
   ]
  },
  {
   "cell_type": "code",
   "execution_count": 3,
   "metadata": {},
   "outputs": [],
   "source": [
    "def build_edf(emperical_data, return_y=False):\n",
    "    length = len(emperical_data)\n",
    "    if length == 0:\n",
    "        raise ValueError(\"Emperical data must have length 1 or more\")\n",
    "    y_values = []\n",
    "    prev = None\n",
    "    counter, total = 0, 0\n",
    "    for entry in emperical_data:\n",
    "        if prev is None:\n",
    "            prev = entry\n",
    "        if entry == prev:\n",
    "            counter += 1\n",
    "        else:\n",
    "            y_values += counter * [total / length]\n",
    "            prev = entry\n",
    "            counter = 1\n",
    "        total += 1\n",
    "    y_values += counter * [total / length]\n",
    "    \n",
    "    if return_y:\n",
    "        return y_values\n",
    "\n",
    "    def edf(x, emperical_data=emperical_data, y_values=y_values):\n",
    "        if x < emperical_data[0]:\n",
    "            return 0.0\n",
    "        return y_values[bisect_right(emperical_data, x) - 1]\n",
    "    \n",
    "    return edf"
   ]
  },
  {
   "cell_type": "markdown",
   "metadata": {},
   "source": [
    "Функция для генерации выборок"
   ]
  },
  {
   "cell_type": "code",
   "execution_count": 4,
   "metadata": {},
   "outputs": [],
   "source": [
    "def generate_samples(function, **kwargs):\n",
    "    ret = {}\n",
    "    for size in sample_count:\n",
    "        ret[size] = [function(size=size, **kwargs) for i in range(5)]\n",
    "    return ret"
   ]
  },
  {
   "cell_type": "markdown",
   "metadata": {},
   "source": [
    "## Распределение Ципфа (дискретное)"
   ]
  },
  {
   "cell_type": "code",
   "execution_count": 5,
   "metadata": {},
   "outputs": [],
   "source": [
    "# функция вероятности\n",
    "def zipf_pmf(x, s, N): return (1 / x**s) / np.sum(1 / np.arange(1, N+1)**s)\n",
    "# функция распределения\n",
    "def zipf_cdf(x, s, N):\n",
    "    if isinstance(x, int) or isinstance(x, float):\n",
    "        return np.sum(zipf_pmf(np.arange(1, np.floor(x)+1), s, N))\n",
    "    ret = np.zeros(x.shape)\n",
    "    for i in range(x.shape[0]):\n",
    "        ret[i] = np.sum(zipf_pmf(np.arange(1, np.floor(x[i])+1), s, N))\n",
    "    return ret"
   ]
  },
  {
   "cell_type": "code",
   "execution_count": 6,
   "metadata": {},
   "outputs": [],
   "source": [
    "def zipf_random(s, N, size=1):\n",
    "    uni_random = stats.uniform.rvs(size=size, )\n",
    "    ticks = [0]\n",
    "    ret = []\n",
    "    for elem in uni_random:\n",
    "        if elem <= ticks[-1]:\n",
    "            ret.append(bisect_left(ticks, elem))\n",
    "        else:\n",
    "            cur = len(ticks)\n",
    "            while ticks[-1] < elem:\n",
    "                ticks.append(ticks[-1] + zipf_pmf(cur, s, N))\n",
    "                cur += 1\n",
    "            ret.append(cur - 1)\n",
    "    return ret"
   ]
  },
  {
   "cell_type": "markdown",
   "metadata": {},
   "source": [
    "Выберем для моделирования параметры $s=1.5$ и $N=10$"
   ]
  },
  {
   "cell_type": "code",
   "execution_count": 7,
   "metadata": {},
   "outputs": [],
   "source": [
    "zipf_s = 1.5\n",
    "zipf_N = 15\n",
    "zipf_samples = generate_samples(zipf_random, s=zipf_s, N=zipf_N)"
   ]
  },
  {
   "cell_type": "markdown",
   "metadata": {},
   "source": [
    "### 3.1 Нахождение выборочного среднего и выборочной дисперсии"
   ]
  },
  {
   "cell_type": "markdown",
   "metadata": {},
   "source": [
    "#### Выборочное среднее"
   ]
  },
  {
   "cell_type": "code",
   "execution_count": 8,
   "metadata": {},
   "outputs": [
    {
     "name": "stdout",
     "output_type": "stream",
     "text": [
      "Выборочное среднее для выборок объемом 5:          4.200  2.000  2.400  2.400  2.200\n",
      "Выборочное среднее для выборок объемом 10:         1.800  2.700  2.800  3.900  3.400\n",
      "Выборочное среднее для выборок объемом 100:        2.750  3.310  3.340  2.700  2.960\n",
      "Выборочное среднее для выборок объемом 1000:       3.044  2.894  3.028  2.975  3.011\n",
      "Выборочное среднее для выборок объемом 100000:     3.042  3.050  3.037  3.041  3.050\n"
     ]
    }
   ],
   "source": [
    "zipf_sample_mean = dict([(cnt, [np.mean(samples) for samples in samples_list]) for cnt, samples_list in zipf_samples.items()])\n",
    "for cnt, sample_mean in zipf_sample_mean.items():\n",
    "    print(\"{:50}\".format(\"Выборочное среднее для выборок объемом {}: \".format(cnt)), end=\"\")\n",
    "    print(*[\"{:6.3f}\".format(value) for value in sample_mean])"
   ]
  },
  {
   "cell_type": "markdown",
   "metadata": {},
   "source": [
    "#### Истинное значение\n",
    "Из домашней работы 1:\n",
    "\n",
    "$\\mathbb{E}\\xi=\n",
    "\\dfrac{\\sum\\limits_{k=1}^{N}k^{1-s}}{\\sum\\limits_{n=1}^{N}n^{-s}}=\n",
    "\\dfrac{\\sum\\limits_{k=1}^{15}k^{-0.5}}{\\sum\\limits_{n=1}^{15}n^{-1.5}}$"
   ]
  },
  {
   "cell_type": "code",
   "execution_count": 9,
   "metadata": {},
   "outputs": [
    {
     "data": {
      "text/plain": [
       "3.0478379162273366"
      ]
     },
     "execution_count": 9,
     "metadata": {},
     "output_type": "execute_result"
    }
   ],
   "source": [
    "def zipf_expected(s, N):\n",
    "    return np.sum(np.arange(1, N+1)**(1-s)) / np.sum(np.arange(1, N+1) ** (-s))\n",
    "zipf_theoretical_expected = zipf_expected(zipf_s, zipf_N)\n",
    "zipf_theoretical_expected"
   ]
  },
  {
   "cell_type": "markdown",
   "metadata": {},
   "source": [
    "Итак, $\\mathbb{E}\\xi\\approx 3.048$. Согласно результатам вычислений, с увеличением объема выборки выборочное среднее приближается к истинному значению мат. ожидания, значит, данная оценка является состоятельной"
   ]
  },
  {
   "cell_type": "markdown",
   "metadata": {},
   "source": [
    "#### Выборочная дисперсия"
   ]
  },
  {
   "cell_type": "code",
   "execution_count": 10,
   "metadata": {},
   "outputs": [
    {
     "name": "stdout",
     "output_type": "stream",
     "text": [
      "Выборочная дисперсия для выборок объемом 5:       20.160  0.800  7.840  5.440  3.760\n",
      "Выборочная дисперсия для выборок объемом 10:       1.960  5.610 10.760 10.490 12.240\n",
      "Выборочная дисперсия для выборок объемом 100:      9.807 11.314 11.984  5.750  7.418\n",
      "Выборочная дисперсия для выборок объемом 1000:     9.838  8.753  9.531  9.958  9.507\n",
      "Выборочная дисперсия для выборок объемом 100000:   9.915  9.945  9.891  9.882  9.917\n"
     ]
    }
   ],
   "source": [
    "zipf_sample_variance = dict([(cnt, [np.var(samples) for samples in samples_list]) for cnt, samples_list in zipf_samples.items()])\n",
    "for cnt, samples_variance in zipf_sample_variance.items():\n",
    "    print(\"{:50}\".format(\"Выборочная дисперсия для выборок объемом {}: \".format(cnt)), end=\"\")\n",
    "    print(*[\"{:6.3f}\".format(value) for value in samples_variance])"
   ]
  },
  {
   "cell_type": "markdown",
   "metadata": {},
   "source": [
    "#### Истинное значение\n",
    "Из домашней работы 1:\n",
    "\n",
    "$\\mathbb{D}\\xi=\n",
    "\\dfrac{\\sum\\limits_{k=1}^{N}k^{2-s}}{\\sum\\limits_{n=1}^{N}n^{-s}}-\\left[\\dfrac{\\sum\\limits_{k=1}^{N}k^{1-s}}{\\sum\\limits_{n=1}^{N}n^{-s}}\\right]^2=\n",
    "\\dfrac{\\sum\\limits_{k=1}^{15}k^{0.5}}{\\sum\\limits_{n=1}^{15}n^{-1.5}}-\\left[\\dfrac{\\sum\\limits_{k=1}^{15}k^{-0.5}}{\\sum\\limits_{n=1}^{15}n^{-1.5}}\\right]^2$"
   ]
  },
  {
   "cell_type": "code",
   "execution_count": 11,
   "metadata": {},
   "outputs": [
    {
     "data": {
      "text/plain": [
       "9.941063756209688"
      ]
     },
     "execution_count": 11,
     "metadata": {},
     "output_type": "execute_result"
    }
   ],
   "source": [
    "def zipf_variance(s, N):\n",
    "    return np.sum(np.arange(1, N + 1) ** (2 - s)) / np.sum(np.arange(1, N + 1) ** (-s)) - zipf_theoretical_expected ** 2\n",
    "zipf_theoretical_variance = zipf_variance(zipf_s, zipf_N)\n",
    "zipf_theoretical_variance"
   ]
  },
  {
   "cell_type": "markdown",
   "metadata": {},
   "source": [
    "Итак, $\\mathbb{D}\\xi\\approx 9.941$. Согласно результатам вычислений, с увеличением объема выборки выборочная дисперсия приближается к истинному значению дисперсии, значит, данная оценка является состоятельной"
   ]
  },
  {
   "cell_type": "markdown",
   "metadata": {},
   "source": [
    "### 3.2 Нахождение параметров распределений событий"
   ]
  },
  {
   "cell_type": "markdown",
   "metadata": {},
   "source": [
    "Зафиксируем параметр $N$ и будем оценивать параметр $s$. Параметр $N$, как правило, известен, поэтому поиск оценки для него ценности не представляет\n",
    "\n",
    "#### Метод моментов\n",
    "Обозначим выборочное среднее за $\\overline{X}$, тогда:\n",
    "\n",
    "$\\mathbb{E}\\xi=\\dfrac{\\sum\\limits_{k=1}^{N}k^{1-s}}{\\sum\\limits_{n=1}^{N}n^{-s}}=\\overline{X}$.\n",
    "\n",
    "Решить полученное уравнение относительно $s$ аналитически не представляется возможным (так, в статье на эту тему нет информации о подобных способах [1]), поэтому придется решать аналитически. С увеличением $s$ мат. ожидание убывает, поэтому можно использовать бинарный поиск."
   ]
  },
  {
   "cell_type": "code",
   "execution_count": 12,
   "metadata": {},
   "outputs": [
    {
     "name": "stdout",
     "output_type": "stream",
     "text": [
      "Оценка параметра s для выборок объемом 5:          1.097  2.074  1.810  1.810  1.932\n",
      "Оценка параметра s для выборок объемом 10:         2.248  1.654  1.607  1.191  1.363\n",
      "Оценка параметра s для выборок объемом 100:        1.630  1.397  1.386  1.654  1.537\n",
      "Оценка параметра s для выборок объемом 1000:       1.502  1.565  1.508  1.530  1.515\n",
      "Оценка параметра s для выборок объемом 100000:     1.503  1.499  1.505  1.503  1.499\n"
     ]
    }
   ],
   "source": [
    "for cnt, sample_mean in zipf_sample_mean.items():\n",
    "    print(\"{:50}\".format(\"Оценка параметра s для выборок объемом {}: \".format(cnt)), end=\"\")\n",
    "    print(*[\"{:6.3f}\".format(optimize.bisect(lambda s: zipf_expected(s, zipf_N) - value, 0, 5)) for value in sample_mean])"
   ]
  },
  {
   "cell_type": "markdown",
   "metadata": {},
   "source": [
    "С увеличением объема выборки оценка параметра $s$, полученная методом моментов, приближается к истинному значению параметра $1.5$, значит, данная оценка является состоятельной. Проверить другие свойства (несмещенность, эффективность, оптимальность) не представляется возможным, т.к. нет аналитического решения."
   ]
  },
  {
   "cell_type": "markdown",
   "metadata": {},
   "source": [
    "#### Метод максимального правдоподобия\n",
    "\n",
    "Пусть выборка имеет объем $M$, тогда:\n",
    "\n",
    "$L_s(X)=\\prod\\limits_{i=1}^{M}\\dfrac{X_i^{-s}}{\\sum\\limits_{k=1}^{N}k^{-s}}$\n",
    "\n",
    "Логарифм не меняет характер монотонности:\n",
    "\n",
    "$\\ln{L_s(X)}=\n",
    "\\sum\\limits_{i=1}^{M}\\ln{\\dfrac{X_i^{-s}}{\\sum\\limits_{k=1}^{N}k^{-s}}}=\n",
    "\\sum\\limits_{i=1}^{M}\\left[-s\\ln{x_i}-\\ln{\\sum\\limits_{k=1}^{N}k^{-s}}\\right]$\n",
    "\n",
    "Равенство производной нулю есть необходимое условие максимума:\n",
    "\n",
    "$\\left(\\ln{L_s(X)}\\right)'=\n",
    "\\sum\\limits_{i=1}^{M}\\left[\\dfrac{\\sum\\limits_{k=1}^{N}k^{-s}\\ln{k}}{\\sum\\limits_{k=1}^{N}k^{-s}}-\\ln{x_i}\\right]=0$\n",
    "\n",
    "Из-за невозможности преобразования сумм найти оценку аналитически нельзя."
   ]
  },
  {
   "cell_type": "code",
   "execution_count": 13,
   "metadata": {},
   "outputs": [],
   "source": [
    "# вклад выборки\n",
    "def zipf_score(s, N, sample):\n",
    "    ticks = np.arange(1, N+1)\n",
    "    powered = ticks**(-s)\n",
    "    return np.sum(np.sum(powered * np.log(ticks)) / np.sum(powered) - np.log(sample))"
   ]
  },
  {
   "cell_type": "code",
   "execution_count": 14,
   "metadata": {},
   "outputs": [
    {
     "name": "stdout",
     "output_type": "stream",
     "text": [
      "Оценка параметра s для выборок объемом 5:          1.193  1.732  2.056  1.823  1.882\n",
      "Оценка параметра s для выборок объемом 10:         2.172  1.590  1.703  1.136  1.347\n",
      "Оценка параметра s для выборок объемом 100:        1.670  1.408  1.456  1.536  1.472\n",
      "Оценка параметра s для выборок объемом 1000:       1.498  1.559  1.494  1.547  1.503\n",
      "Оценка параметра s для выборок объемом 100000:     1.503  1.500  1.504  1.502  1.498\n"
     ]
    }
   ],
   "source": [
    "for cnt, sample_list in zipf_samples.items():\n",
    "    print(\"{:50}\".format(\"Оценка параметра s для выборок объемом {}: \".format(cnt)), end=\"\")\n",
    "    print(*[\"{:6.3f}\".format(optimize.bisect(lambda s: zipf_score(s, zipf_N, sample), 0, 5)) for sample in sample_list])"
   ]
  },
  {
   "cell_type": "markdown",
   "metadata": {},
   "source": [
    "С увеличением объема выборки оценка параметра $s$, полученная методом максимального правдоподобия, приближается к истинному значению параметра $1.5$, значит, данная оценка является состоятельной. Проверить другие свойства (несмещенность, эффективность, оптимальность) не представляется возможным, т.к. нет аналитического решения."
   ]
  },
  {
   "cell_type": "markdown",
   "metadata": {},
   "source": [
    "### 3.3 Работа с данными\n",
    "\n",
    "В домашней работе 1 в качестве интерпретации была выбрана частота слов с тем или иным рангом в романе \"Война и мир\" (на английском языке)."
   ]
  },
  {
   "cell_type": "code",
   "execution_count": 15,
   "metadata": {},
   "outputs": [],
   "source": [
    "with open('warandpeace.txt', 'r') as book:\n",
    "    data = book.read()\n",
    "words = data.lower().split()\n",
    "word_counts = dict()\n",
    "for word in words:\n",
    "    if word in word_counts:\n",
    "        word_counts[word] += 1\n",
    "    else:\n",
    "        word_counts[word] = 1\n",
    "word_counts = np.array(list(word_counts.values()))\n",
    "# freqs[i] - количество слов с рангом (i + 1)\n",
    "freqs = np.array([0] * max(word_counts))\n",
    "for word_count in word_counts:\n",
    "    freqs[word_count - 1] += 1\n",
    "freqs = freqs / np.sum(freqs)"
   ]
  },
  {
   "cell_type": "markdown",
   "metadata": {},
   "source": [
    "Значение выборочного среднего:"
   ]
  },
  {
   "cell_type": "code",
   "execution_count": 16,
   "metadata": {},
   "outputs": [
    {
     "data": {
      "text/plain": [
       "12.964005394768844"
      ]
     },
     "execution_count": 16,
     "metadata": {},
     "output_type": "execute_result"
    }
   ],
   "source": [
    "word_counts_mean = np.mean(word_counts)\n",
    "word_counts_mean"
   ]
  },
  {
   "cell_type": "markdown",
   "metadata": {},
   "source": [
    "Значение выборочной дисперсии:"
   ]
  },
  {
   "cell_type": "code",
   "execution_count": 17,
   "metadata": {},
   "outputs": [
    {
     "data": {
      "text/plain": [
       "65884.45889585848"
      ]
     },
     "execution_count": 17,
     "metadata": {},
     "output_type": "execute_result"
    }
   ],
   "source": [
    "word_counts_var = np.var(word_counts)\n",
    "word_counts_var"
   ]
  },
  {
   "cell_type": "markdown",
   "metadata": {},
   "source": [
    "Оценка параметра $s$, найденная методом моментов:"
   ]
  },
  {
   "cell_type": "code",
   "execution_count": 18,
   "metadata": {},
   "outputs": [
    {
     "data": {
      "text/plain": [
       "1.866980067560462"
      ]
     },
     "execution_count": 18,
     "metadata": {},
     "output_type": "execute_result"
    }
   ],
   "source": [
    "zipf_s_moments = optimize.bisect(lambda s: zipf_expected(s, len(freqs)) - word_counts_mean, 0, 5)\n",
    "zipf_s_moments"
   ]
  },
  {
   "cell_type": "markdown",
   "metadata": {},
   "source": [
    "Оценка параметра $s$, найденная методом максимального правдоподобия:"
   ]
  },
  {
   "cell_type": "code",
   "execution_count": 19,
   "metadata": {},
   "outputs": [
    {
     "data": {
      "text/plain": [
       "1.8088726311555092"
      ]
     },
     "execution_count": 19,
     "metadata": {},
     "output_type": "execute_result"
    }
   ],
   "source": [
    "zipf_s_likelihood = optimize.bisect(lambda s: zipf_score(s, len(freqs), word_counts), 0, 5)\n",
    "zipf_s_likelihood"
   ]
  },
  {
   "cell_type": "markdown",
   "metadata": {},
   "source": [
    "Сравним на графике эмпирические (полученные по данным из книги) и теоретические (построенные с параметром $s$ равным оценкам, найденным двумя методами) вероятности."
   ]
  },
  {
   "cell_type": "code",
   "execution_count": 20,
   "metadata": {},
   "outputs": [],
   "source": [
    "def zipf_plot(end=None, log_ax=True):\n",
    "    _, ax = plt.subplots(figsize=(10, 7))\n",
    "    if log_ax:\n",
    "        ax.set_xscale(\"log\")\n",
    "    y_freqs = (freqs if end is None else freqs[:end])\n",
    "    ax.set_xlim(0.9, len(y_freqs) + 0.1)\n",
    "    x_values = np.arange(1, len(y_freqs) + 1)\n",
    "    plt.scatter(x_values, y_freqs, linewidth=3, color='r', alpha=1, label=\"Эмпирические вероятности (по книге)\")\n",
    "    plt.scatter(x_values, zipf_pmf(x_values, zipf_s_moments, len(freqs)), linewidth=2, color='g', alpha=0.9, label=\"Вероятности с s_моментов\")\n",
    "    plt.scatter(x_values, zipf_pmf(x_values, zipf_s_likelihood, len(freqs)), linewidth=1, color='b', alpha=0.6, label=\"Вероятности с s_макс.правдоподобия\")\n",
    "    plt.legend()\n",
    "    plt.show()"
   ]
  },
  {
   "cell_type": "code",
   "execution_count": 21,
   "metadata": {},
   "outputs": [
    {
     "data": {
      "image/png": "[encoded data removed]",
      "text/plain": [
       "<Figure size 720x504 with 1 Axes>"
      ]
     },
     "metadata": {
      "needs_background": "light"
     },
     "output_type": "display_data"
    }
   ],
   "source": [
    "zipf_plot()"
   ]
  },
  {
   "cell_type": "markdown",
   "metadata": {},
   "source": [
    "Для наглядности представим на отдельном графике вероятности для первых десяти точек"
   ]
  },
  {
   "cell_type": "code",
   "execution_count": 22,
   "metadata": {},
   "outputs": [
    {
     "data": {
      "image/png": "[encoded data removed]",
      "text/plain": [
       "<Figure size 720x504 with 1 Axes>"
      ]
     },
     "metadata": {
      "needs_background": "light"
     },
     "output_type": "display_data"
    }
   ],
   "source": [
    "zipf_plot(end=10, log_ax=False)"
   ]
  },
  {
   "cell_type": "markdown",
   "metadata": {},
   "source": [
    "Видно, что теоретические значения вероятностей, посчитанные с использованием оценок, полученных обоими методами, близки к эмпирическим."
   ]
  },
  {
   "cell_type": "markdown",
   "metadata": {},
   "source": [
    "## Бета-распределение (абсолютно непрерывное)"
   ]
  },
  {
   "cell_type": "code",
   "execution_count": 23,
   "metadata": {},
   "outputs": [],
   "source": [
    "# плотность вероятности\n",
    "def beta_pdf(x, alpha, beta): return stats.beta.pdf(x, alpha, beta)\n",
    "# функция распределения\n",
    "def beta_cdf(x, alpha, beta): return special.betainc(alpha, beta, x)"
   ]
  },
  {
   "cell_type": "code",
   "execution_count": 24,
   "metadata": {},
   "outputs": [],
   "source": [
    "def beta_random(a, b, size=1):\n",
    "    ret = []\n",
    "    l = a\n",
    "    k = a + b - 1\n",
    "    for _ in range(size):\n",
    "        uni_set = stats.uniform.rvs(size=k)\n",
    "        uni_set.sort()\n",
    "        ret.append(uni_set[l-1])\n",
    "    return np.array(ret)"
   ]
  },
  {
   "cell_type": "markdown",
   "metadata": {},
   "source": [
    "Выберем для моделирования параметры $a=5$ и $b=2$"
   ]
  },
  {
   "cell_type": "code",
   "execution_count": 25,
   "metadata": {},
   "outputs": [],
   "source": [
    "beta_a = 5\n",
    "beta_b = 2\n",
    "beta_samples = generate_samples(beta_random, a=beta_a, b=beta_b)"
   ]
  },
  {
   "cell_type": "markdown",
   "metadata": {},
   "source": [
    "### 3.1 Нахождение выборочного среднего и выборочной дисперсии"
   ]
  },
  {
   "cell_type": "markdown",
   "metadata": {},
   "source": [
    "#### Выборочное среднее"
   ]
  },
  {
   "cell_type": "code",
   "execution_count": 26,
   "metadata": {},
   "outputs": [
    {
     "name": "stdout",
     "output_type": "stream",
     "text": [
      "Выборочное среднее для выборок объемом 5:          0.708  0.722  0.781  0.615  0.704\n",
      "Выборочное среднее для выборок объемом 10:         0.730  0.722  0.691  0.711  0.764\n",
      "Выборочное среднее для выборок объемом 100:        0.714  0.718  0.702  0.697  0.707\n",
      "Выборочное среднее для выборок объемом 1000:       0.716  0.717  0.708  0.720  0.714\n",
      "Выборочное среднее для выборок объемом 100000:     0.714  0.714  0.714  0.714  0.714\n"
     ]
    }
   ],
   "source": [
    "beta_sample_mean = dict([(cnt, [np.mean(samples) for samples in samples_list]) for cnt, samples_list in beta_samples.items()])\n",
    "for cnt, sample_mean in beta_sample_mean.items():\n",
    "    print(\"{:50}\".format(\"Выборочное среднее для выборок объемом {}: \".format(cnt)), end=\"\")\n",
    "    print(*[\"{:6.3f}\".format(value) for value in sample_mean])"
   ]
  },
  {
   "cell_type": "markdown",
   "metadata": {},
   "source": [
    "#### Истинное значение\n",
    "Из домашней работы 1:\n",
    "\n",
    "$\\mathbb{E}\\xi=\\dfrac{\\alpha}{\\alpha+\\beta}$"
   ]
  },
  {
   "cell_type": "code",
   "execution_count": 27,
   "metadata": {},
   "outputs": [
    {
     "data": {
      "text/plain": [
       "0.7142857142857143"
      ]
     },
     "execution_count": 27,
     "metadata": {},
     "output_type": "execute_result"
    }
   ],
   "source": [
    "def beta_expected(a, b): return a / (a + b)\n",
    "beta_theoretical_expected = beta_expected(beta_a, beta_b)\n",
    "beta_theoretical_expected"
   ]
  },
  {
   "cell_type": "markdown",
   "metadata": {},
   "source": [
    "Итак, $\\mathbb{E}\\xi\\approx 0.714$. Согласно результатам вычислений, с увеличением объема выборки выборочное среднее приближается к истинному значению мат. ожидания, значит, данная оценка является состоятельной"
   ]
  },
  {
   "cell_type": "markdown",
   "metadata": {},
   "source": [
    "#### Выборочная дисперсия"
   ]
  },
  {
   "cell_type": "code",
   "execution_count": 28,
   "metadata": {},
   "outputs": [
    {
     "name": "stdout",
     "output_type": "stream",
     "text": [
      "Выборочная дисперсия для выборок объемом 5:        0.0219  0.0569  0.0057  0.0582  0.0203\n",
      "Выборочная дисперсия для выборок объемом 10:       0.0311  0.0183  0.0113  0.0112  0.0235\n",
      "Выборочная дисперсия для выборок объемом 100:      0.0240  0.0225  0.0274  0.0254  0.0232\n",
      "Выборочная дисперсия для выборок объемом 1000:     0.0255  0.0241  0.0268  0.0244  0.0271\n",
      "Выборочная дисперсия для выборок объемом 100000:   0.0255  0.0256  0.0256  0.0257  0.0255\n"
     ]
    }
   ],
   "source": [
    "beta_sample_variance = dict([(cnt, [np.var(samples) for samples in samples_list]) for cnt, samples_list in beta_samples.items()])\n",
    "for cnt, samples_variance in beta_sample_variance.items():\n",
    "    print(\"{:50}\".format(\"Выборочная дисперсия для выборок объемом {}: \".format(cnt)), end=\"\")\n",
    "    print(*[\"{:7.4f}\".format(value) for value in samples_variance])"
   ]
  },
  {
   "cell_type": "markdown",
   "metadata": {},
   "source": [
    "#### Истинное значение\n",
    "Из домашней работы 1:\n",
    "\n",
    "$\\mathbb{D}\\xi=\\dfrac{\\alpha\\beta}{(\\alpha+\\beta)^2(\\alpha+\\beta+1)}$"
   ]
  },
  {
   "cell_type": "code",
   "execution_count": 29,
   "metadata": {},
   "outputs": [
    {
     "data": {
      "text/plain": [
       "0.025510204081632654"
      ]
     },
     "execution_count": 29,
     "metadata": {},
     "output_type": "execute_result"
    }
   ],
   "source": [
    "def beta_variance(a, b): return (a * b) / ((a + b)**2 * (a + b + 1))\n",
    "beta_theoretical_variance = beta_variance(beta_a, beta_b)\n",
    "beta_theoretical_variance"
   ]
  },
  {
   "cell_type": "markdown",
   "metadata": {},
   "source": [
    "Итак, $\\mathbb{D}\\xi\\approx 0.0255$. Согласно результатам вычислений, с увеличением объема выборки выборочная дисперсия приближается к истинному значению дисперсии, значит, данная оценка является состоятельной"
   ]
  },
  {
   "cell_type": "markdown",
   "metadata": {},
   "source": [
    "### 3.2 Нахождение параметров распределений событий"
   ]
  },
  {
   "cell_type": "markdown",
   "metadata": {},
   "source": [
    "#### Метод моментов\n",
    "Зафиксируем параметр $\\alpha$ и будем оценивать параметр $\\beta$. Обозначим выборочное среднее за $\\overline{X}$, тогда:\n",
    "\n",
    "$\\mathbb{E}\\xi=\\dfrac{\\alpha}{\\alpha+\\beta}=\\overline{X}$.\n",
    "\n",
    "$\\hat{\\beta}=\\dfrac{\\alpha\\left(1-\\overline{X}\\right)}{\\overline{X}}$"
   ]
  },
  {
   "cell_type": "code",
   "execution_count": 30,
   "metadata": {},
   "outputs": [
    {
     "name": "stdout",
     "output_type": "stream",
     "text": [
      "Оценка параметра beta для выборок объемом 5:       2.066  1.929  1.401  3.136  2.102\n",
      "Оценка параметра beta для выборок объемом 10:      1.849  1.927  2.241  2.036  1.544\n",
      "Оценка параметра beta для выборок объемом 100:     2.003  1.964  2.127  2.169  2.077\n",
      "Оценка параметра beta для выборок объемом 1000:    1.986  1.971  2.059  1.943  2.000\n",
      "Оценка параметра beta для выборок объемом 100000:  2.003  2.004  2.002  1.999  2.004\n"
     ]
    }
   ],
   "source": [
    "for cnt, sample_mean in beta_sample_mean.items():\n",
    "    print(\"{:50}\".format(\"Оценка параметра beta для выборок объемом {}: \".format(cnt)), end=\"\")\n",
    "    print(*[\"{:6.3f}\".format(beta_a * (1 - value) / value) for value in sample_mean])"
   ]
  },
  {
   "cell_type": "markdown",
   "metadata": {},
   "source": [
    "С увеличением объема выборки оценка параметра $\\beta$, полученная методом моментов, приближается к истинному значению параметра $2$, значит, данная оценка является состоятельной. \n",
    "\n",
    "Проверим несмещенность этой оценки:\n",
    "\n",
    "$\\mathbb{E}\\hat\\beta=\\alpha\\mathbb{E}\\left[\\dfrac{1-\\overline{X}}{\\overline{X}}\\right]=\\alpha\\mathbb{E}\\left[\\dfrac{1-\\dfrac{1}{n}\\eta}{\\dfrac{1}{n}\\eta}\\right]$\n",
    "\n",
    "Здесь $\\eta$ - случайная величина, распределенная как сумма $n$ случайных величин, имеющих бета-распределение ($n$ - объем выборки). Согласно [2], найти это распределение можно только численно, поэтому аналитически проверить несмещенность не получится. Аналогично, не представляется возможным проверка эффективности и оптимальности."
   ]
  },
  {
   "cell_type": "markdown",
   "metadata": {},
   "source": [
    "Фиксация одного из параметров не помогла проверить свойства оценки, поэтому найдем методом моментов оценки обоих параметров (в бета-распределении обычно неизвестны оба). Пусть $\\overline{V}$ - выборочная дисперсия, тогда:\n",
    "\n",
    "$\\begin{cases}\n",
    "\\overline{X}=\\dfrac{\\alpha}{\\alpha+\\beta}\\\\\n",
    "\\overline{V}=\\dfrac{\\alpha\\beta}{(\\alpha+\\beta)^2(\\alpha+\\beta+1)}\n",
    "\\end{cases}\\Leftrightarrow\n",
    "\\begin{cases}\n",
    "\\beta=\\dfrac{\\alpha\\left(1-\\overline{X}\\right)}{\\overline{X}}\\\\\n",
    "\\overline{V}=\\dfrac{\\alpha^2\\left(1-\\overline{X}\\right)}{\\overline{X}\\left(\\alpha+\\dfrac{\\alpha\\left(1-\\overline{X}\\right)}{\\overline{X}}\\right)^2\\left(\\alpha+\\dfrac{\\alpha\\left(1-\\overline{X}\\right)}{\\overline{X}}+1\\right)}\n",
    "\\end{cases}$\n",
    "\n",
    "Рассмотримотдельно второе уравнение:\n",
    "\n",
    "$\\alpha^2\\left(1-\\overline{X}\\right)=\\overline{V}\\cdot\\dfrac{\\alpha^2\\overline{X}^2+2\\alpha^2\\overline{X}\\left(1-\\overline{X}\\right)+\\alpha^2\\left(1-\\overline{X}\\right)^2}{\\overline{X}^2}\\cdot\\dfrac{\\alpha\\overline{X}+\\alpha\\left(1-\\overline{X}\\right)+\\overline{X}}{\\overline{X}}$\n",
    "\n",
    "$\\alpha^2\\left(1-\\overline{X}\\right)=\\overline{V}\\cdot\\dfrac{\\alpha^2}{\\overline{X}^2}\\left(\\alpha+\\overline{X}\\right)$\n",
    "\n",
    "$\\hat{\\alpha}=\\overline{X}\\left[\\dfrac{\\overline{X}\\left(1-\\overline{X}\\right)}{\\overline{V}}-1\\right]$\n",
    "\n",
    "Подставляя в первое уравнение, получаем:\n",
    "\n",
    "$\\hat{\\beta}=\\left(1-\\overline{X}\\right)\\left[\\dfrac{\\overline{X}\\left(1-\\overline{X}\\right)}{\\overline{V}}-1\\right]$"
   ]
  },
  {
   "cell_type": "code",
   "execution_count": 31,
   "metadata": {},
   "outputs": [
    {
     "name": "stdout",
     "output_type": "stream",
     "text": [
      "Оценка параметра alpha для выборок объемом 5:           5.964  1.825 22.755  1.888  6.527\n",
      "Оценка параметра beta для выборок объемом 5:            2.464  0.704  6.374  1.184  2.744\n",
      "Оценка параметра alpha для выборок объемом 10:          3.890  7.192 12.325 12.311  5.088\n",
      "Оценка параметра beta для выборок объемом 10:           1.439  2.771  5.524  5.014  1.571\n",
      "Оценка параметра alpha для выборок объемом 100:         5.363  5.755  4.658  5.107  5.610\n",
      "Оценка параметра beta для выборок объемом 100:          2.148  2.261  1.981  2.216  2.330\n",
      "Оценка параметра alpha для выборок объемом 1000:        5.006  5.329  4.742  5.230  4.665\n",
      "Оценка параметра beta для выборок объемом 1000:         1.988  2.101  1.953  2.032  1.867\n",
      "Оценка параметра alpha для выборок объемом 100000:      5.005  4.977  4.980  4.959  5.000\n",
      "Оценка параметра beta для выборок объемом 100000:       2.005  1.995  1.994  1.983  2.004\n"
     ]
    }
   ],
   "source": [
    "for cnt, sample_mean in beta_sample_mean.items():\n",
    "    def alpha_est(mean, var): return mean * (mean * (1 - mean) / var - 1)\n",
    "    def beta_est(mean, var): return (1 - mean) * (mean * (1 - mean) / var - 1)\n",
    "    print(\"{:55}\".format(\"Оценка параметра alpha для выборок объемом {}: \".format(cnt)), end=\"\")\n",
    "    print(*[\"{:6.3f}\".format(alpha_est(mean_value, var_value)) for mean_value, var_value in zip(sample_mean, beta_sample_variance[cnt])])\n",
    "    print(\"{:55}\".format(\"Оценка параметра beta для выборок объемом {}: \".format(cnt)), end=\"\")\n",
    "    print(*[\"{:6.3f}\".format(beta_est(mean_value, var_value)) for mean_value, var_value in zip(sample_mean, beta_sample_variance[cnt])])"
   ]
  },
  {
   "cell_type": "markdown",
   "metadata": {},
   "source": [
    "С увеличением объема выборки оценки параметров $\\alpha$ и $\\beta$, полученные методом моментов, приближаются к истинному значению параметров $5$ и $2$, значит, данные оценки являются состоятельными."
   ]
  },
  {
   "cell_type": "markdown",
   "metadata": {},
   "source": [
    "#### Метод максимального правдоподобия\n",
    "\n",
    "Искать оценки будем для обоих параметров, т.к. принятие одного параметра за известный не упростит решение: вместо системы нерешаемых аналитически уравнений будет получено одно нерешаемое аналитически уравнение (об этом см. [3]). Пусть выборка имеет объем $n$, тогда:\n",
    "\n",
    "$L_{\\alpha,\\beta}(X)=\n",
    "\\prod\\limits_{i=1}^{n}\\dfrac{X_i^{\\alpha-1}(1-X_i)^{\\beta-1}}{B(\\alpha,\\beta)}=\n",
    "B^{-n}(\\alpha,\\beta)\\prod\\limits_{i=1}^{n}X_i^{\\alpha-1}(1-X_i)^{\\beta-1}$\n",
    "\n",
    "Логарифм не меняет характер монотонности:\n",
    "\n",
    "$\\ln{L_{\\alpha,\\beta}(X)}=\n",
    "-n\\ln{B(\\alpha,\\beta)}+(\\alpha-1)\\sum\\limits_{i=1}^{n}\\ln{X_i}+(\\beta-1)\\sum\\limits_{i=1}^{n}\\ln{(1-X_i)}=\n",
    "-n\\left(\\ln{\\Gamma{(\\alpha)}}+\\ln{\\Gamma{(\\beta)}}-\\ln{\\Gamma{(\\alpha+\\beta)}}\\right)+(\\alpha-1)\\sum\\limits_{i=1}^{n}\\ln{X_i}+(\\beta-1)\\sum\\limits_{i=1}^{n}\\ln{(1-X_i)}$\n",
    "\n",
    "Равенство частных производных нулю есть необходимое условие максимума:\n",
    "\n",
    "$\\begin{cases}\n",
    "\\dfrac{\\partial\\ln{L_{\\alpha,\\beta}(X)}}{\\partial\\alpha}=-n\\left(\\dfrac{\\ln{\\partial\\Gamma{(\\alpha)}}}{\\partial\\alpha}-\\dfrac{\\partial\\ln{\\Gamma{(\\alpha+\\beta)}}}{\\partial\\alpha}\\right)+\\sum\\limits_{i=1}^{n}\\ln{X_i}\\\\\n",
    "\\dfrac{\\partial\\ln{L_{\\alpha,\\beta}(X)}}{\\partial\\beta}=-n\\left(\\dfrac{\\ln{\\partial\\Gamma{(\\beta)}}}{\\partial\\beta}-\\dfrac{\\partial\\ln{\\Gamma{(\\alpha+\\beta)}}}{\\partial\\beta}\\right)+\\sum\\limits_{i=1}^{n}\\ln{\\left(1-X_i\\right)}\n",
    "\\end{cases}$\n",
    "\n",
    "В источниках $\\dfrac{\\partial\\ln{\\Gamma{(x)}}}{\\partial x}$ обозначают $\\psi(x)$ и называют digamma-function. Применим это обозначение к нашей записи системы:\n",
    "\n",
    "$\\begin{cases}\n",
    "\\dfrac{\\partial\\ln{L_{\\alpha,\\beta}(X)}}{\\partial\\alpha}=-n\\left(\\psi(\\alpha)-\\psi{(\\alpha+\\beta)}\\right)+\\sum\\limits_{i=1}^{n}\\ln{X_i}\\\\\n",
    "\\dfrac{\\partial\\ln{L_{\\alpha,\\beta}(X)}}{\\partial\\beta}=-n\\left(\\psi(\\beta)-\\psi{(\\alpha+\\beta)}\\right)+\\sum\\limits_{i=1}^{n}\\ln{\\left(1-X_i\\right)}\n",
    "\\end{cases}$\n",
    "\n",
    "Полученную систему решаем численно"
   ]
  },
  {
   "cell_type": "code",
   "execution_count": 32,
   "metadata": {},
   "outputs": [],
   "source": [
    "# вклад выборки\n",
    "def beta_score(params, sample):\n",
    "    a, b = params[0], params[1]\n",
    "    n = len(sample)\n",
    "    first = n * (special.psi(a+b)-special.psi(a)) + np.sum(np.log(sample))\n",
    "    second = n * (special.psi(a+b)-special.psi(b)) + np.sum(np.log(1 - sample))\n",
    "    return (first, second)\n",
    "\n",
    "# явно посчитанные частные производные 1 и 2 порядка\n",
    "# (для более хорошей работы метода Ньютона)\n",
    "def beta_score_fprime(params, n):\n",
    "    a, b = params[0], params[1]\n",
    "    first = n * (special.polygamma(1, a+b)-special.polygamma(1, a))\n",
    "    second = n * (special.polygamma(1, a+b)-special.polygamma(1, b))\n",
    "    return (first, second)\n",
    "\n",
    "def beta_score_fprime2(params, n):\n",
    "    a, b = params[0], params[1]\n",
    "    first = n * (special.polygamma(2, a+b)-special.polygamma(2, a))\n",
    "    second = n * (special.polygamma(2, a+b)-special.polygamma(2, b))\n",
    "    return (first, second)"
   ]
  },
  {
   "cell_type": "code",
   "execution_count": 33,
   "metadata": {},
   "outputs": [
    {
     "name": "stdout",
     "output_type": "stream",
     "text": [
      "Оценка параметра alpha для выборок объемом 5:           6.532  2.621 22.759  2.155  6.399\n",
      "Оценка параметра beta для выборок объемом 5:            2.698  1.101  6.373  1.304  2.657\n",
      "Оценка параметра alpha для выборок объемом 10:          4.832  8.244 12.995 13.298  6.128\n",
      "Оценка параметра beta для выборок объемом 10:           1.863  3.234  5.837  5.439  1.950\n",
      "Оценка параметра alpha для выборок объемом 100:         5.450  5.475  4.428  5.162  5.439\n",
      "Оценка параметра beta для выборок объемом 100:          2.175  2.132  1.861  2.261  2.245\n",
      "Оценка параметра alpha для выборок объемом 1000:        5.048  5.461  4.737  5.032  4.774\n",
      "Оценка параметра beta для выборок объемом 1000:         2.007  2.160  1.951  1.947  1.914\n",
      "Оценка параметра alpha для выборок объемом 100000:      5.001  4.983  4.975  4.964  5.005\n",
      "Оценка параметра beta для выборок объемом 100000:       2.004  1.997  1.991  1.985  2.006\n"
     ]
    }
   ],
   "source": [
    "# в качестве начальных приближений берем 4 и 1\n",
    "for cnt, sample_list in beta_samples.items():\n",
    "    estimators = [optimize.newton(lambda params: beta_score(params, sample), (4.3, 2.7), fprime=lambda params: beta_score_fprime(params, len(sample)),\n",
    "                                  fprime2=lambda params: beta_score_fprime2(params, len(sample)), maxiter=1000) for sample in sample_list]\n",
    "    print(\"{:55}\".format(\"Оценка параметра alpha для выборок объемом {}: \".format(cnt)), end=\"\")\n",
    "    print(*[\"{:6.3f}\".format(estimator[0]) for estimator in estimators])\n",
    "    print(\"{:55}\".format(\"Оценка параметра beta для выборок объемом {}: \".format(cnt)), end=\"\")\n",
    "    print(*[\"{:6.3f}\".format(estimator[1]) for estimator in estimators])"
   ]
  },
  {
   "cell_type": "markdown",
   "metadata": {},
   "source": [
    "С увеличением объема выборки оценки параметров $\\alpha$ и $\\beta$, полученные методом максимального правдоподобия, приближаются к истинному значению параметров $5$ и $2$, значит, данные оценки являются состоятельными. Проверить другие свойства (несмещенность, эффективность, оптимальность) не представляется возможным, т.к. нет аналитического решения."
   ]
  },
  {
   "cell_type": "markdown",
   "metadata": {},
   "source": [
    "### 3.3 Работа с данными\n",
    "\n",
    "В домашней работе 1 в качестве интерпретации было выбрано распределение эксцентриситетов орбит астероидов и малых тел, изучаемых Lowell Observatory. Загружаем данные:"
   ]
  },
  {
   "cell_type": "code",
   "execution_count": 34,
   "metadata": {},
   "outputs": [],
   "source": [
    "ECCENTRICITY_INFO_CVS_PATH = 'eccentricity.csv'"
   ]
  },
  {
   "cell_type": "code",
   "execution_count": 35,
   "metadata": {},
   "outputs": [],
   "source": [
    "def load_info(source_file, eccentricity_info=None):\n",
    "    def append_to(where, values):\n",
    "        where.loc[len(where)] = values\n",
    "    with open(source_file, 'r') as f:\n",
    "        for line in tqdm.tqdm_notebook(f):\n",
    "            name = line[7:26].strip()\n",
    "            if eccentricity_info is not None:\n",
    "                eccentricity = line[159:169].strip()\n",
    "                if eccentricity != '':\n",
    "                    append_to(eccentricity_info, [name, float(eccentricity)])"
   ]
  },
  {
   "cell_type": "code",
   "execution_count": 36,
   "metadata": {},
   "outputs": [],
   "source": [
    "need_eccentricity = not os.path.isfile(ECCENTRICITY_INFO_CVS_PATH)\n",
    "eccentricity_info = None\n",
    "if need_eccentricity:\n",
    "    eccentricity_info = pd.DataFrame(columns=['Name', 'Eccentricity'])\n",
    "    load_info(source_file='astorb.dat', diameter_info=diameter_info, eccentricity_info=eccentricity_info)\n",
    "    with open(ECCENTRICITY_INFO_CVS_PATH, 'w') as out:\n",
    "        eccentricity_info.to_csv(out, index=False)"
   ]
  },
  {
   "cell_type": "code",
   "execution_count": 37,
   "metadata": {},
   "outputs": [],
   "source": [
    "e_info = pd.read_csv(ECCENTRICITY_INFO_CVS_PATH)\n",
    "e_values = np.sort(e_info[\"Eccentricity\"])"
   ]
  },
  {
   "cell_type": "code",
   "execution_count": 38,
   "metadata": {},
   "outputs": [
    {
     "data": {
      "text/plain": [
       "(796787,)"
      ]
     },
     "execution_count": 38,
     "metadata": {},
     "output_type": "execute_result"
    }
   ],
   "source": [
    "e_values.shape"
   ]
  },
  {
   "cell_type": "markdown",
   "metadata": {},
   "source": [
    "Значение выборочного среднего:"
   ]
  },
  {
   "cell_type": "code",
   "execution_count": 39,
   "metadata": {},
   "outputs": [
    {
     "data": {
      "text/plain": [
       "0.15663200943171132"
      ]
     },
     "execution_count": 39,
     "metadata": {},
     "output_type": "execute_result"
    }
   ],
   "source": [
    "e_mean = np.mean(e_values)\n",
    "e_mean"
   ]
  },
  {
   "cell_type": "markdown",
   "metadata": {},
   "source": [
    "Значение выборочной дисперсии:"
   ]
  },
  {
   "cell_type": "code",
   "execution_count": 40,
   "metadata": {},
   "outputs": [
    {
     "data": {
      "text/plain": [
       "0.008966689196894131"
      ]
     },
     "execution_count": 40,
     "metadata": {},
     "output_type": "execute_result"
    }
   ],
   "source": [
    "e_var = np.var(e_values)\n",
    "e_var"
   ]
  },
  {
   "cell_type": "markdown",
   "metadata": {},
   "source": [
    "Оценки параметров $\\alpha$ и $\\beta$, найденные методом моментов:"
   ]
  },
  {
   "cell_type": "code",
   "execution_count": 41,
   "metadata": {},
   "outputs": [
    {
     "name": "stdout",
     "output_type": "stream",
     "text": [
      "alpha: 2.150890978287494\n",
      "beta: 11.58123814456107\n"
     ]
    }
   ],
   "source": [
    "beta_a_moments = e_mean * (e_mean * (1 - e_mean) / e_var - 1)\n",
    "beta_b_moments = (1 - e_mean) * (e_mean * (1 - e_mean) / e_var - 1)\n",
    "print(\"alpha: {}\".format(beta_a_moments))\n",
    "print(\"beta: {}\".format(beta_b_moments))"
   ]
  },
  {
   "cell_type": "markdown",
   "metadata": {},
   "source": [
    "Оценки параметров $\\alpha$ и $\\beta$, найденные методом максимального правдоподобия:"
   ]
  },
  {
   "cell_type": "code",
   "execution_count": 42,
   "metadata": {},
   "outputs": [
    {
     "name": "stdout",
     "output_type": "stream",
     "text": [
      "alpha: 2.3592788500498507\n",
      "beta: 12.555165724785503\n"
     ]
    }
   ],
   "source": [
    "beta_likelihood = optimize.newton(lambda params: beta_score(params, e_values), (2, 11), fprime=lambda params: beta_score_fprime(params, len(e_values)),\n",
    "                                  fprime2=lambda params: beta_score_fprime2(params, len(e_values)), maxiter=1000)\n",
    "print(\"alpha: {}\".format(beta_likelihood[0]))\n",
    "print(\"beta: {}\".format(beta_likelihood[1]))"
   ]
  },
  {
   "cell_type": "markdown",
   "metadata": {},
   "source": [
    "Сравним на графике ЭФР и две ТФР (построенные с использованием оценок максимального правдоподобия и оценок, полученных методом моментов)"
   ]
  },
  {
   "cell_type": "code",
   "execution_count": 43,
   "metadata": {},
   "outputs": [
    {
     "data": {
      "image/png": "[encoded data removed]",
      "text/plain": [
       "<Figure size 864x576 with 1 Axes>"
      ]
     },
     "metadata": {
      "needs_background": "light"
     },
     "output_type": "display_data"
    }
   ],
   "source": [
    "x_values = np.linspace(0, 1, 1000)\n",
    "beta_edf = build_edf(e_values)\n",
    "plt.figure(figsize=(12, 8))\n",
    "plt.plot(x_values, [beta_edf(point) for point in x_values], color='r', label=\"ЭФР\")\n",
    "plt.plot(x_values, beta_cdf(x_values, beta_a_moments, beta_b_moments), color='g', label=\"ТФР (метод моментов)\")\n",
    "plt.plot(x_values, beta_cdf(x_values, beta_likelihood[0], beta_likelihood[1]), color='b', alpha=0.6, label=\"ТФР (ОМП)\")\n",
    "plt.legend()\n",
    "plt.show()"
   ]
  },
  {
   "cell_type": "markdown",
   "metadata": {},
   "source": [
    "Видно, что графики ТФР, построенные с использованием оценок, полученных обоими методами, близки к графику ЭФР."
   ]
  },
  {
   "cell_type": "markdown",
   "metadata": {},
   "source": [
    "## Источники\n",
    "\n",
    "[1] Rui Li. A New Parameter Estimation Method for a Zipf-like Distribution for Geospatial Data Access. URL: https://www.researchgate.net/publication/264191587_A_New_Parameter_Estimation_Method_for_a_Zipf-like_Distribution_for_Geospatial_Data_Access\n",
    "\n",
    "[2] Олейникова С.А. — Аппроксимация закона распределения суммы случайных величин, распределенных по закону бета // Кибернетика и программирование. – 2015. – № 6. – С. 35 - 54. DOI: 10.7256/2306-4196.2015.6.17225 URL: https://nbpublish.com/library_read_article.php?id=17225\n",
    "\n",
    "[3] Claire Elayne Bangerter Owen. Parameter Estimation for the Beta Distribution. URL: https://scholarsarchive.byu.edu/cgi/viewcontent.cgi?article=2613&context=etd"
   ]
  }
 ],
 "metadata": {
  "kernelspec": {
   "display_name": "Python 3",
   "language": "python",
   "name": "python3"
  },
  "language_info": {
   "codemirror_mode": {
    "name": "ipython",
    "version": 3
   },
   "file_extension": ".py",
   "mimetype": "text/x-python",
   "name": "python",
   "nbconvert_exporter": "python",
   "pygments_lexer": "ipython3",
   "version": "3.7.3"
  }
 },
 "nbformat": 4,
 "nbformat_minor": 4
}
